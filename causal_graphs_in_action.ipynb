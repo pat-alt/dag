{
 "cells": [
  {
   "cell_type": "markdown",
   "metadata": {},
   "source": [
    "# CAUSAL GRAPHS IN ACTION"
   ]
  },
  {
   "cell_type": "code",
   "execution_count": 1,
   "metadata": {},
   "outputs": [],
   "source": [
    "from dag import *"
   ]
  },
  {
   "cell_type": "markdown",
   "metadata": {},
   "source": [
    "This notebook imports our coded dag module and lets the user test its functionality by inputting different variations of a DAGs"
   ]
  },
  {
   "cell_type": "markdown",
   "metadata": {},
   "source": [
    "We implemented an algorithm that, given a DAG, an exposure variable, an outcome variable, and a proposed set of adjustment variables, returns true if the set is a valid adjustment set and false otherwise. The user first needs to instantiate a `Dag` class, which takes the following inputs:\n",
    "\n",
    "    scm: Structural causal model - dictionary, where key: cause (str), values (list of str): effected variables\n",
    "    exposure: string, e.g. \"D\"\n",
    "    outcome: string, e.g. \"Y\"\n",
    "\n",
    "To test for valid adjustment set the user just needs to supply the proposed set:\n",
    "\n",
    "     proposed_set: string or list of strings, e.g. \"C\" or [\"C\", \"X\"] or \"\".\n",
    "     \n",
    "Path finding has been implemented from scratch. In case of potential backdoor paths the user can also check if/how their proposed set affects those paths `dag.final_backdoor_paths` and whether paths have been closed or not `dag.back_door_closed`."
   ]
  },
  {
   "cell_type": "markdown",
   "metadata": {},
   "source": [
    "## Inputs for the function\n",
    "\n",
    "Below we provide a simple example:"
   ]
  },
  {
   "cell_type": "code",
   "execution_count": 2,
   "metadata": {},
   "outputs": [],
   "source": [
    "scm = {\n",
    "    \"D\": [\"Y\", \"X\"],\n",
    "    \"Y\": [\"F\"],\n",
    "    \"F\": [],\n",
    "    \"X\": [],\n",
    "    \"G\": [\"D\", \"Y\", \"I\"],\n",
    "    \"H\": [\"F\"],\n",
    "    \"I\": []\n",
    "}\n",
    "outcome = \"Y\"\n",
    "exposure = \"D\"\n",
    "# instantiate the class:\n",
    "dag = Dag(scm, outcome, exposure)"
   ]
  },
  {
   "cell_type": "markdown",
   "metadata": {},
   "source": [
    "## Visualizing the graph\n",
    "\n",
    "The `Dag` class has a `plot` method to draw a chart of the DAG. This uses helper functions from the `networks` library."
   ]
  },
  {
   "cell_type": "code",
   "execution_count": 3,
   "metadata": {},
   "outputs": [
    {
     "data": {
      "image/png": "[encoded data removed]",
      "text/plain": [
       "<Figure size 432x288 with 1 Axes>"
      ]
     },
     "metadata": {},
     "output_type": "display_data"
    }
   ],
   "source": [
    "dag.plot()"
   ]
  },
  {
   "cell_type": "markdown",
   "metadata": {},
   "source": [
    "## Check if valid adjustment set\n",
    "\n",
    "Now let us check a few examples of proposed adjustment sets for this particular graph. The path that we need to worry about is the backdoor path leading through node *G*."
   ]
  },
  {
   "cell_type": "code",
   "execution_count": 4,
   "metadata": {},
   "outputs": [
    {
     "data": {
      "text/plain": [
       "True"
      ]
     },
     "execution_count": 4,
     "metadata": {},
     "output_type": "execute_result"
    }
   ],
   "source": [
    "# Propose a VAS:\n",
    "proposed_set = [\"G\"]\n",
    "dag.is_valid_adjustment_set(proposed_set)"
   ]
  },
  {
   "cell_type": "markdown",
   "metadata": {},
   "source": [
    "*G* is a VAD since it closes the backdoor path (indicated through a value of `1` for *G*). A backdoor path is closed if the sum of all node values is at least `1`."
   ]
  },
  {
   "cell_type": "code",
   "execution_count": 5,
   "metadata": {},
   "outputs": [
    {
     "name": "stdout",
     "output_type": "stream",
     "text": [
      "[{'G': 1, 'Y': 0}, {'G': inf, 'I': inf}]\n",
      "[True, True]\n"
     ]
    }
   ],
   "source": [
    "print(dag.final_backdoor_paths)\n",
    "print(dag.back_door_closed)"
   ]
  },
  {
   "cell_type": "markdown",
   "metadata": {},
   "source": [
    "You will note that `dag` also stores `{'G': inf, 'I': inf}`. This is a path leading through a parent of the exposure variable but never ends in the outcome variable. Adjusting for nodes on this path is always valid, hence their corresponding values default to `inf`. It is not strictly necessary to store these paths but turned out to be a convenient way of accounting for these valid adjustment sets."
   ]
  },
  {
   "cell_type": "markdown",
   "metadata": {},
   "source": [
    "Now let's try the empty set:"
   ]
  },
  {
   "cell_type": "code",
   "execution_count": 6,
   "metadata": {},
   "outputs": [
    {
     "data": {
      "text/plain": [
       "False"
      ]
     },
     "execution_count": 6,
     "metadata": {},
     "output_type": "execute_result"
    }
   ],
   "source": [
    "proposed_set = [\"\"]\n",
    "dag.is_valid_adjustment_set(proposed_set)"
   ]
  },
  {
   "cell_type": "markdown",
   "metadata": {},
   "source": [
    "As expected this is not a valid adjustment set, since it leaves the backdoor path through *G* open:"
   ]
  },
  {
   "cell_type": "code",
   "execution_count": 7,
   "metadata": {},
   "outputs": [
    {
     "name": "stdout",
     "output_type": "stream",
     "text": [
      "[{'G': 0, 'Y': 0}, {'G': inf, 'I': inf}]\n",
      "[False, True]\n"
     ]
    }
   ],
   "source": [
    "print(dag.final_backdoor_paths)\n",
    "print(dag.back_door_closed)"
   ]
  }
 ],
 "metadata": {
  "kernelspec": {
   "display_name": "Python 3",
   "language": "python",
   "name": "python3"
  },
  "language_info": {
   "codemirror_mode": {
    "name": "ipython",
    "version": 3
   },
   "file_extension": ".py",
   "mimetype": "text/x-python",
   "name": "python",
   "nbconvert_exporter": "python",
   "pygments_lexer": "ipython3",
   "version": "3.8.0"
  },
  "toc": {
   "base_numbering": 1,
   "nav_menu": {},
   "number_sections": true,
   "sideBar": true,
   "skip_h1_title": false,
   "title_cell": "Table of Contents",
   "title_sidebar": "Contents",
   "toc_cell": false,
   "toc_position": {},
   "toc_section_display": true,
   "toc_window_display": false
  }
 },
 "nbformat": 4,
 "nbformat_minor": 4
}
