{
 "cells": [
  {
   "cell_type": "code",
   "execution_count": 1,
   "metadata": {},
   "outputs": [],
   "source": [
    "import networkx as nx\n",
    "import pandas as pd\n",
    "import numpy as np\n",
    "\n",
    "from dag import *\n",
    "\n",
    "# Function that creates edges, given a DAG:\n",
    "def create_edges(scm):\n",
    "    L=[]\n",
    "    for k, v in scm.items():\n",
    "        for val in v:\n",
    "            L.append((k,val))\n",
    "    return L"
   ]
  },
  {
   "cell_type": "markdown",
   "metadata": {},
   "source": [
    "# CAUSAL GRAPHS IN ACTION"
   ]
  },
  {
   "cell_type": "markdown",
   "metadata": {},
   "source": [
    "This notebook imports our coded dag module and lets the user test its functionality by inputting different variations of DAGs"
   ]
  },
  {
   "cell_type": "markdown",
   "metadata": {},
   "source": [
    "We implemented an algorithm that, given a DAG, an exposure variable, an outcome variable, and a proposed set of adjustment variables, returns true if the set is a valid adjustment set and false otherwise.\n",
    "\n",
    "The required user inputs have to be in the following format:\n",
    "\n",
    "    DAG: dictionary, where key: cause (str), values (list of str): effected variables\n",
    "    exposure variable: string, e.g. \"D\"\n",
    "    outcome variable: string, e.g. \"Y\"\n",
    "    proposed_set: string or list of strings, e.g. \"C\" or [\"C\", \"X\"] or \"\"."
   ]
  },
  {
   "cell_type": "markdown",
   "metadata": {},
   "source": [
    "## Inputs for the function:"
   ]
  },
  {
   "cell_type": "code",
   "execution_count": 17,
   "metadata": {},
   "outputs": [],
   "source": [
    "# settings:\n",
    "\n",
    "scm = {\n",
    "    \"D\": [\"Y\", \"X\"],\n",
    "    \"Y\": [\"F\"],\n",
    "    \"F\": [],\n",
    "    \"X\": [],\n",
    "    \"G\": [\"D\", \"Y\"],\n",
    "    \"H\": [\"F\"],\n",
    "    \"I\": [\"G\"]\n",
    "}\n",
    "\n",
    "outcome = \"Y\"\n",
    "\n",
    "exposure = \"D\""
   ]
  },
  {
   "cell_type": "markdown",
   "metadata": {},
   "source": [
    "## Visualizing the graph:"
   ]
  },
  {
   "cell_type": "code",
   "execution_count": 21,
   "metadata": {},
   "outputs": [
    {
     "data": {
      "image/png": "[encoded data removed]",
      "text/plain": [
       "<Figure size 432x288 with 1 Axes>"
      ]
     },
     "metadata": {},
     "output_type": "display_data"
    }
   ],
   "source": [
    "# draw the DAG:\n",
    "\n",
    "gr = nx.DiGraph()\n",
    "gr.add_nodes_from(scm)\n",
    "\n",
    "edges = create_edges(scm)\n",
    "\n",
    "gr.add_edges_from(edges)\n",
    "\n",
    "nx.draw(gr, with_labels=True, random_state=42)"
   ]
  },
  {
   "cell_type": "markdown",
   "metadata": {},
   "source": [
    "## Check if valid adjustment set:"
   ]
  },
  {
   "cell_type": "code",
   "execution_count": 36,
   "metadata": {},
   "outputs": [],
   "source": [
    "# Propose a VAS:\n",
    "proposed_set = [\"G\"]"
   ]
  },
  {
   "cell_type": "code",
   "execution_count": 37,
   "metadata": {},
   "outputs": [
    {
     "data": {
      "text/plain": [
       "False"
      ]
     },
     "execution_count": 37,
     "metadata": {},
     "output_type": "execute_result"
    }
   ],
   "source": [
    "# instantiate the class:\n",
    "dag = Dag(scm, outcome, exposure)\n",
    "\n",
    "# check if it's a valid adjustment set:\n",
    "dag.is_valid_adjustment_set(proposed_set)"
   ]
  }
 ],
 "metadata": {
  "kernelspec": {
   "display_name": "Python 3",
   "language": "python",
   "name": "python3"
  },
  "language_info": {
   "codemirror_mode": {
    "name": "ipython",
    "version": 3
   },
   "file_extension": ".py",
   "mimetype": "text/x-python",
   "name": "python",
   "nbconvert_exporter": "python",
   "pygments_lexer": "ipython3",
   "version": "3.7.6"
  },
  "toc": {
   "base_numbering": 1,
   "nav_menu": {},
   "number_sections": true,
   "sideBar": true,
   "skip_h1_title": false,
   "title_cell": "Table of Contents",
   "title_sidebar": "Contents",
   "toc_cell": false,
   "toc_position": {},
   "toc_section_display": true,
   "toc_window_display": false
  }
 },
 "nbformat": 4,
 "nbformat_minor": 4
}
