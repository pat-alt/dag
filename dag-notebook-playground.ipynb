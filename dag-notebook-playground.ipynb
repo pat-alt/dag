{
 "cells": [
  {
   "cell_type": "markdown",
   "metadata": {},
   "source": [
    "## DAG"
   ]
  },
  {
   "cell_type": "code",
   "execution_count": 135,
   "metadata": {},
   "outputs": [],
   "source": [
    "scm_easy = {\n",
    "    'D': ['Y', 'C'],\n",
    "    'C': ['Y'],\n",
    "    'Y': []\n",
    "}\n",
    "\n",
    "scm = {\n",
    "    'A': ['C'],\n",
    "    'B': ['E', 'Y'],\n",
    "    'C': ['Y'],\n",
    "    'D': ['C'],\n",
    "    'E': ['A', 'D'],\n",
    "    'W': ['D'],\n",
    "    'Y': ['F']\n",
    "}"
   ]
  },
  {
   "cell_type": "code",
   "execution_count": null,
   "metadata": {},
   "outputs": [],
   "source": []
  },
  {
   "cell_type": "code",
   "execution_count": 136,
   "metadata": {},
   "outputs": [],
   "source": [
    "def find_all_paths(scm, my_list, path):\n",
    "    len_before = len(my_list)\n",
    "    # add descendants\n",
    "    for desc in scm[path]:\n",
    "        if desc not in my_list and desc != 'D':\n",
    "#            print(f'descendant: {desc}')\n",
    "            my_list = my_list + [desc]\n",
    "    \n",
    "    # add causers\n",
    "    causers = [n for n in scm if path in scm[n] and n != 'D' and n not in my_list]\n",
    "    #print(f'causers: {causers}')\n",
    "    if len(causers) > 0:\n",
    "        my_list = my_list + causers\n",
    "    \n",
    "    len_after = len(my_list)\n",
    "\n",
    "    if len_after == len_before:\n",
    "        return my_list\n",
    "    for nested_path in my_list:\n",
    "#        print(f'my_list: {my_list}')\n",
    "#        print(f'nested_path: {nested_path}')\n",
    "        my_list = find_all_paths(scm, my_list, nested_path)\n",
    "        \n",
    "    return my_list"
   ]
  },
  {
   "cell_type": "code",
   "execution_count": 137,
   "metadata": {},
   "outputs": [
    {
     "data": {
      "text/plain": [
       "[]"
      ]
     },
     "execution_count": 137,
     "metadata": {},
     "output_type": "execute_result"
    }
   ],
   "source": [
    "find_all_paths(scm, [], 'W')"
   ]
  },
  {
   "cell_type": "code",
   "execution_count": null,
   "metadata": {},
   "outputs": [],
   "source": []
  },
  {
   "cell_type": "code",
   "execution_count": 138,
   "metadata": {},
   "outputs": [],
   "source": [
    "#def find non-valid_adj-set():\n",
    "#    n_VAS = []\n",
    "#    for path in paths:\n",
    "#        if has_collider(path):\n",
    "#            n_VAS.append(path.collider)\n",
    "#        else:\n",
    "#            if has_confounder(path):\n",
    "#                n_VAS.append(every_set_not_containing_the_confounder)\n",
    "#            else:\n",
    "#                add nothing\n",
    "\n",
    "#   n_VAS.append(all_descendants_of_D_and_its_descendants_and_so_on)\n",
    "#   n_VAS.append(all_descendants_of_Y_and_its_descendants_and_so_on)\n",
    "                "
   ]
  },
  {
   "cell_type": "code",
   "execution_count": null,
   "metadata": {},
   "outputs": [],
   "source": []
  },
  {
   "cell_type": "markdown",
   "metadata": {},
   "source": [
    "# Find all descendants of outcome:"
   ]
  },
  {
   "cell_type": "code",
   "execution_count": 144,
   "metadata": {},
   "outputs": [],
   "source": [
    "def find_outcome_descendants(scm, my_list, path):\n",
    "    len_before = len(my_list)\n",
    "    # add descendants\n",
    "    for desc in scm[path]:\n",
    "        if desc not in my_list:\n",
    "            my_list = my_list + [desc]\n",
    "        \n",
    "    len_after = len(my_list)\n",
    "\n",
    "    if len_after == len_before:\n",
    "        return my_list\n",
    "    else:\n",
    "        for nested_path in my_list:\n",
    "            my_list = find_all_descendants(scm, my_list, nested_path)       \n",
    "    return my_list"
   ]
  },
  {
   "cell_type": "code",
   "execution_count": 147,
   "metadata": {},
   "outputs": [
    {
     "data": {
      "text/plain": [
       "['F', 'G']"
      ]
     },
     "execution_count": 147,
     "metadata": {},
     "output_type": "execute_result"
    }
   ],
   "source": [
    "scm = {\n",
    "    'A': ['C', 'G'],\n",
    "    'B': ['E', 'Y'],\n",
    "    'C': ['Y'],\n",
    "    'D': ['C'],\n",
    "    'E': ['A', 'D'],\n",
    "    'W': ['D'],\n",
    "    'Y': ['F'],\n",
    "    'F': [\"G\"],\n",
    "    'G': []\n",
    "}\n",
    "\n",
    "find_all_descendants(scm, [], \"Y\")\n"
   ]
  },
  {
   "cell_type": "code",
   "execution_count": null,
   "metadata": {},
   "outputs": [],
   "source": []
  },
  {
   "cell_type": "code",
   "execution_count": null,
   "metadata": {},
   "outputs": [],
   "source": []
  },
  {
   "cell_type": "code",
   "execution_count": null,
   "metadata": {},
   "outputs": [],
   "source": []
  },
  {
   "cell_type": "code",
   "execution_count": null,
   "metadata": {},
   "outputs": [],
   "source": []
  },
  {
   "cell_type": "code",
   "execution_count": null,
   "metadata": {},
   "outputs": [],
   "source": []
  }
 ],
 "metadata": {
  "kernelspec": {
   "display_name": "Python 3",
   "language": "python",
   "name": "python3"
  },
  "language_info": {
   "codemirror_mode": {
    "name": "ipython",
    "version": 3
   },
   "file_extension": ".py",
   "mimetype": "text/x-python",
   "name": "python",
   "nbconvert_exporter": "python",
   "pygments_lexer": "ipython3",
   "version": "3.8.0"
  },
  "toc": {
   "base_numbering": 1,
   "nav_menu": {},
   "number_sections": true,
   "sideBar": true,
   "skip_h1_title": false,
   "title_cell": "Table of Contents",
   "title_sidebar": "Contents",
   "toc_cell": false,
   "toc_position": {},
   "toc_section_display": true,
   "toc_window_display": false
  }
 },
 "nbformat": 4,
 "nbformat_minor": 4
}
