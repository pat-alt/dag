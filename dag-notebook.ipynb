{
 "cells": [
  {
   "cell_type": "markdown",
   "metadata": {},
   "source": [
    "## DAG"
   ]
  },
  {
   "cell_type": "code",
   "execution_count": 112,
   "metadata": {},
   "outputs": [],
   "source": [
    "scm_easy = {\n",
    "    'D': ['Y', 'C'],\n",
    "    'C': ['Y'],\n",
    "    'Y': []\n",
    "}\n",
    "\n",
    "scm = {\n",
    "    'A': ['C'],\n",
    "    'B': ['E', 'Y'],\n",
    "    'C': ['Y'],\n",
    "    'D': ['C'],\n",
    "    'E': ['A', 'D'],\n",
    "    'W': ['D'],\n",
    "    'Y': []\n",
    "}"
   ]
  },
  {
   "cell_type": "code",
   "execution_count": null,
   "metadata": {},
   "outputs": [],
   "source": []
  },
  {
   "cell_type": "code",
   "execution_count": 113,
   "metadata": {},
   "outputs": [],
   "source": [
    "def find_all_paths(scm, my_list, path):\n",
    "    len_before = len(my_list)\n",
    "    # add descendants\n",
    "    for desc in scm[path]:\n",
    "        if desc not in my_list :\n",
    "#            print(f'descendant: {desc}')\n",
    "            my_list = my_list + [desc]\n",
    "    \n",
    "    # add causers\n",
    "    causers = [n for n in scm if path in scm[n] and n != 'D' and n not in my_list]\n",
    "    #print(f'causers: {causers}')\n",
    "    if len(causers) > 0:\n",
    "        my_list = my_list + causers\n",
    "    \n",
    "    len_after = len(my_list)\n",
    "\n",
    "    if len_after == len_before:\n",
    "        return my_list\n",
    "    for nested_path in my_list:\n",
    "#        print(f'my_list: {my_list}')\n",
    "#        print(f'nested_path: {nested_path}')\n",
    "        my_list = find_all_paths(scm, my_list, nested_path)\n",
    "        \n",
    "    return my_list"
   ]
  },
  {
   "cell_type": "code",
   "execution_count": 116,
   "metadata": {},
   "outputs": [
    {
     "data": {
      "text/plain": [
       "['D', 'C', 'E', 'W', 'Y', 'A', 'B']"
      ]
     },
     "execution_count": 116,
     "metadata": {},
     "output_type": "execute_result"
    }
   ],
   "source": [
    "find_all_paths(scm, [], 'W')"
   ]
  },
  {
   "cell_type": "code",
   "execution_count": null,
   "metadata": {},
   "outputs": [],
   "source": []
  }
 ],
 "metadata": {
  "kernelspec": {
   "display_name": "Python 3",
   "language": "python",
   "name": "python3"
  },
  "language_info": {
   "codemirror_mode": {
    "name": "ipython",
    "version": 3
   },
   "file_extension": ".py",
   "mimetype": "text/x-python",
   "name": "python",
   "nbconvert_exporter": "python",
   "pygments_lexer": "ipython3",
   "version": "3.7.6"
  },
  "toc": {
   "base_numbering": 1,
   "nav_menu": {},
   "number_sections": true,
   "sideBar": true,
   "skip_h1_title": false,
   "title_cell": "Table of Contents",
   "title_sidebar": "Contents",
   "toc_cell": false,
   "toc_position": {},
   "toc_section_display": true,
   "toc_window_display": false
  }
 },
 "nbformat": 4,
 "nbformat_minor": 4
}
